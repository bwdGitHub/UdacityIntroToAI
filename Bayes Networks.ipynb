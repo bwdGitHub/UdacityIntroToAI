{
 "cells": [
  {
   "cell_type": "markdown",
   "metadata": {},
   "source": [
    "### Bayes Networks\n",
    "The assumption is we have a directed graph such that if a node $A$ has no parents we are given the probability distribution $P(A)$, and if instead $A$ has a set of parent nodes $S$ then we are given the conditional distribution $P(A|S)$.\n",
    "\n",
    "For now we assume these are boolean random variables. Below I aim to implement an algorithm to compute a particular probability for a particular graph, and and algorithm to approximate this by sampling. Hopefully this will give me some ideas about how to best set this up in general.\n",
    "\n",
    "The graph will be a simple 5 node graph, nodes A and B lead into node C, and node C leads into both node D and node E.\n",
    "\n",
    "For each node we need to store a probability distribution and the children nodes. A simple way to do this is with dictionaries, though in general there should most likely be a node class and a probability distriution class.\n",
    "\n",
    "First are the probabilities."
   ]
  },
  {
   "cell_type": "code",
   "execution_count": 1,
   "metadata": {
    "collapsed": true
   },
   "outputs": [],
   "source": [
    "# Probability A is true\n",
    "def probA():\n",
    "    return 0.5\n",
    "# Probability B is true\n",
    "def probB():\n",
    "    return 0.25\n",
    "# Probability C is true given A and B\n",
    "def probC(a,b):\n",
    "    if a and b:return 0.9\n",
    "    elif a and not b: return 0.6\n",
    "    elif not a and b: return 0.75\n",
    "    elif not a and not b: return 0.1\n",
    "# Probability D is true given C\n",
    "def probD(c):\n",
    "    if c: return 0.6\n",
    "    elif not c: return 0.4\n",
    "# Probability E is true given C\n",
    "def probE(c):\n",
    "    if c: return 0.75\n",
    "    elif not c: return 0.25"
   ]
  },
  {
   "cell_type": "markdown",
   "metadata": {},
   "source": [
    "##### Remarks\n",
    "In general if a node has $n$ parents that can take on Boolean values you would need to define $2^n$ probabilities. There may be some way to store all these at once and return this instead.\n",
    "\n",
    "Next are the nodes."
   ]
  },
  {
   "cell_type": "code",
   "execution_count": 6,
   "metadata": {
    "collapsed": true
   },
   "outputs": [],
   "source": [
    "# simple node class\n",
    "class Node:\n",
    "    # initialise a node with its probability distribution and children nodes\n",
    "    def __init__(self,name,probability_distribution, children):\n",
    "        self.name = name\n",
    "        self.prob = probability_distribution\n",
    "        self.children = children"
   ]
  },
  {
   "cell_type": "code",
   "execution_count": 7,
   "metadata": {
    "collapsed": true
   },
   "outputs": [],
   "source": [
    "# Notice these need to be defined from the 'youngest' nodes\n",
    "# i.e. the leaf nodes.\n",
    "# That may be problematic in general.\n",
    "E = Node('E', probE, None)\n",
    "D = Node('D', probD, None)\n",
    "C = Node('C', probC, [D,E])\n",
    "B = Node('B', probB, [C])\n",
    "A = Node('A', probA, [C])"
   ]
  },
  {
   "cell_type": "markdown",
   "metadata": {},
   "source": [
    "#### Task\n",
    "Compute the following conditional\n",
    "\n",
    "$$ P(A=T, B=T | D=T, E=T). $$\n",
    "\n",
    "Let $P(A)$ denote $P(A=T)$. Then we know\n",
    "\n",
    "$$ P(A, B |D,E) = \\frac{P(A,B,D,E)}{P(D,E)}$$\n",
    "\n",
    "We can factor the numerator as\n",
    "\n",
    "$$P(A,B,C,D,E) = \\sum_{c} P(D,E|C=c)P(C=c|A,B)P(A)P(B)$$\n",
    "\n",
    "Similarly the denominator can be factored as \n",
    "\n",
    "$$ P(D,E) = \\sum_{a,b,c} P(D,E |C=c)P(C=c |A=a,B=b)P(A=a)P(B=b). $$\n",
    "\n",
    "The key difference is $A$ and $B$ can be false in the denominator.\n",
    "\n",
    "Below is a function which computes these sums."
   ]
  },
  {
   "cell_type": "code",
   "execution_count": 16,
   "metadata": {},
   "outputs": [
    {
     "name": "stdout",
     "output_type": "stream",
     "text": [
      "The probability that A and B are true given D and E are is 0.19644970414201185\n"
     ]
    }
   ],
   "source": [
    "def conditional_on_AB(a,b):\n",
    "    # priors\n",
    "    if a: pa = A.prob()\n",
    "    else: pa = 1-A.prob()\n",
    "    if b: pb = B.prob()\n",
    "    else: pb = 1-B.prob()\n",
    "    \n",
    "    # conditionals\n",
    "    sum = 0\n",
    "    for i in [True, False]:\n",
    "        if i: c = C.prob(a,b)\n",
    "        else: c = 1-C.prob(a,b)\n",
    "        sum+=D.prob(i)*E.prob(i)*c*pa*pb\n",
    "    return sum\n",
    "\n",
    "# the numerator is conditional_on_AB(True,True)\n",
    "numerator = conditional_on_AB(True,True)\n",
    "# the denominator is the sum over all combinations\n",
    "denominator = 0\n",
    "for i in [True,False]:\n",
    "    for j in [True,False]:\n",
    "        denominator+=conditional_on_AB(i,j)\n",
    "\n",
    "print(\"The probability that A and B are true given D and E are is {}\".format(numerator/denominator))"
   ]
  },
  {
   "cell_type": "markdown",
   "metadata": {},
   "source": [
    "##### Remarks\n",
    "There's almost certainly a better way to do this!\n",
    "\n",
    "Next this probability can be estimated by sampling."
   ]
  },
  {
   "cell_type": "code",
   "execution_count": 29,
   "metadata": {},
   "outputs": [
    {
     "name": "stdout",
     "output_type": "stream",
     "text": [
      "The sample approximation to the probability that A and B are true, given D and E are, is 0.19576353525157553\n",
      "This took 2.3401339054107666s\n"
     ]
    }
   ],
   "source": [
    "import random\n",
    "import time\n",
    "def generate_sample():\n",
    "    x = random.random()\n",
    "    if(x<A.prob()):a = True\n",
    "    else: a=False\n",
    "    x = random.random()\n",
    "    if(x<B.prob()):b= True\n",
    "    else: b=False\n",
    "    x = random.random()\n",
    "    if(x<C.prob(a,b)): c = True\n",
    "    else : c = False\n",
    "    x = random.random()\n",
    "    if x<D.prob(c):d = True\n",
    "    else: d = False\n",
    "    x = random.random()\n",
    "    if x<E.prob(c):e = True\n",
    "    else: e=False\n",
    "    return a,b,c,d,e\n",
    "\n",
    "start = time.time()\n",
    "# compute frequency of samples where a,b are true when d,e are true\n",
    "numerator = 0\n",
    "denominator = 0\n",
    "num_iter = 1000000\n",
    "for i in range(num_iter):\n",
    "    a,b,c,d,e = generate_sample()\n",
    "    if d and e:\n",
    "        denominator+=1\n",
    "        if a and b:\n",
    "            numerator+=1\n",
    "stop = time.time()\n",
    "print(\"The sample approximation to the probability that A and B are true, given D and E are, is {}\".format(numerator/denominator))\n",
    "print(\"This took {}s\".format(stop-start))"
   ]
  },
  {
   "cell_type": "markdown",
   "metadata": {},
   "source": [
    "Many samples are generated only to be dropped in the first conditional. Likelihood weighting only generates useful samples for the inference task at hand, by weighting the samples appropriately. In this case the weight is $P(D|C=c)P(E|C=c)$."
   ]
  },
  {
   "cell_type": "code",
   "execution_count": 30,
   "metadata": {},
   "outputs": [
    {
     "name": "stdout",
     "output_type": "stream",
     "text": [
      "The sample approximation to the probability that A and B are true, given D and E are, is 0.19725220971704557\n",
      "This took 1.9941141605377197s\n"
     ]
    }
   ],
   "source": [
    "def generate_likelihood_sample():\n",
    "    x = random.random()\n",
    "    if(x<A.prob()):a = True\n",
    "    else: a=False\n",
    "    x = random.random()\n",
    "    if(x<B.prob()):b= True\n",
    "    else: b=False\n",
    "    x = random.random()\n",
    "    if(x<C.prob(a,b)): c = True\n",
    "    else : c = False\n",
    "    return a,b,c, D.prob(c)*E.prob(c)\n",
    "\n",
    "# compute weighted frequency of samples where a,b are true\n",
    "start = time.time()\n",
    "numerator = 0\n",
    "denominator = 0\n",
    "num_iter = 1000000\n",
    "for i in range(num_iter):\n",
    "    a,b,c,weight = generate_likelihood_sample()\n",
    "    denominator+=weight\n",
    "    if a and b:\n",
    "        numerator+=weight\n",
    "end = time.time()\n",
    "print(\"The sample approximation to the probability that A and B are true, given D and E are, is {}\".format(numerator/denominator))\n",
    "print(\"This took {}s\".format(end-start))"
   ]
  },
  {
   "cell_type": "markdown",
   "metadata": {},
   "source": [
    "#### Remarks\n",
    "Even in this simple case the approximation methods are only accurate for the first two decimal places, even after many iterations. The likelihood weighted sampling is slightly quicker in this case, and would be even quicker than plain sampling in the case that the original conditioned on event (in this case $D,E$ being true) was rare."
   ]
  },
  {
   "cell_type": "code",
   "execution_count": null,
   "metadata": {
    "collapsed": true
   },
   "outputs": [],
   "source": []
  }
 ],
 "metadata": {
  "kernelspec": {
   "display_name": "Python 3",
   "language": "python",
   "name": "python3"
  },
  "language_info": {
   "codemirror_mode": {
    "name": "ipython",
    "version": 3
   },
   "file_extension": ".py",
   "mimetype": "text/x-python",
   "name": "python",
   "nbconvert_exporter": "python",
   "pygments_lexer": "ipython3",
   "version": "3.5.3"
  }
 },
 "nbformat": 4,
 "nbformat_minor": 2
}
