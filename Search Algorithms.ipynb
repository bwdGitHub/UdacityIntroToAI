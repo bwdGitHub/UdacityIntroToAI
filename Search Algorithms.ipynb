{
 "cells": [
  {
   "cell_type": "markdown",
   "metadata": {},
   "source": [
    "#### Search Algorithms\n",
    "The aim of this notebook is to implement some search algorithms for graphs discussed in the first section of the Udacity Intro to AI course.\n",
    "\n",
    "This will include breadth first search, uniform cost search, and A* search. \n",
    "\n",
    "The first goal is to implement these in a rough form. These implementations could be improved by creating a graph class, and using more efficient data structures for parts of the search algorithm."
   ]
  },
  {
   "cell_type": "markdown",
   "metadata": {},
   "source": [
    "##### Graphs\n",
    "I will implement a directed graph as simply a dictionary of dictionaries. For each node $x$ in the graph we store in $g[x]$ the list of all nodes that can be reached from $x$ in one step, and the cost of this step. For breadth first search and uniform cost search are equivalent if these costs are all set to 1.\n",
    "\n",
    "For my examples the nodes will be simply labelled with numbers."
   ]
  },
  {
   "cell_type": "code",
   "execution_count": 1,
   "metadata": {
    "collapsed": true
   },
   "outputs": [],
   "source": [
    "graph = {}\n",
    "\n",
    "graph[1] = {2:1, 3:2}\n",
    "graph[2] = {4:1, 5:1}\n",
    "graph[3] = {6:2,7:2}\n",
    "graph[4] = {}\n",
    "graph[5] = {6:1}\n",
    "graph[6] = {}\n",
    "graph[7] = {}"
   ]
  },
  {
   "cell_type": "markdown",
   "metadata": {},
   "source": [
    "Note this example graph is a binary tree with 3 layers, weighted so that the paths on the right side of the tree are 2, and the paths on the left side are 1. There is also an additional connection between the two inner nodes at the bottom. \n",
    "\n",
    "It is easy to see that the shortest path from node 1 to node 6 is 1-3-6 without the costs, and 1-2-5-6 with the costs."
   ]
  },
  {
   "cell_type": "markdown",
   "metadata": {},
   "source": [
    "##### Breadth first search, Uniform cost search and A* search\n",
    "The first two of these algorithms only differ in that uniform cost search takes account of the costs of the paths in the graph. As such we can simply implement uniform cost search, and also get breadth first search by setting all path weights to 1. \n",
    "\n",
    "A* differs from the other two in how it decides the cost of a path. A heuristic $h$ is provided that is an apriori estimate of the distance to the goal from each node. The algorithm then minimizes the sum of the path cost and this heuristic. As such we can acquire uniform cost search by setting the heuristic to zero.\n",
    "\n",
    "The search algorithm operates in the following way. We initialise a frontier as the starting node, initialise a costs dictionary storing the minimum cost from the initial node to each new node discovered, and initialise a paths dictionary storing the minimal cost path from the initial node to each newly discovered node. The algorithm proceeds by popping off nodes from the frontier with the minimal cost, and exploring the neighbours of this node, updating the costs and paths dictionaries if new nodes are discovered, or if cheaper paths are found to previously discovered nodes. The algorithm ends when the frontier is empty, though it can be terminated early if the goal node is the one popped of the frontier. The minimal path and its cost are then those stored in the paths and costs dictionaries for the goal node, if they exist, else no connection exists between the initial and goal node (e.g. from a child to a parent in a directed tree, or nodes on two separate components of a disconnected graph).\n",
    "\n",
    "I will implement the heuristic similarly to the graph. In principle we only need to define the heuristic for estimated costs to the goal node, however doing it in this way allows you to use one heuristic for finding shortest paths between multiple different nodes."
   ]
  },
  {
   "cell_type": "code",
   "execution_count": 16,
   "metadata": {
    "collapsed": true
   },
   "outputs": [],
   "source": [
    "def search(graph,initial_node,goal_node, heuristic = None):\n",
    "    \n",
    "    # If not doing A*, set heuristic to 0\n",
    "    if heuristic==None:\n",
    "        heuristic = {}\n",
    "        heuristic[goal_node] = {}\n",
    "        for node in graph:\n",
    "            heuristic[goal_node][node] = 0\n",
    "    \n",
    "    # Initialise frontier, costs and paths\n",
    "    frontier = [initial_node]\n",
    "    costs = {initial_node:heuristic[goal_node][initial_node]}\n",
    "    paths = {initial_node:[initial_node]}\n",
    "    \n",
    "    # loop while frontier non-empty\n",
    "    while(len(frontier)>0):\n",
    "        \n",
    "        # search for minimal cost frontier node\n",
    "        \n",
    "        # hack to deal with initialising a minimum value\n",
    "        min_cost = None\n",
    "        min_node = None\n",
    "        for node in frontier:\n",
    "            if min_cost==None:\n",
    "                min_cost = costs[node]\n",
    "                min_node = node\n",
    "            elif costs[node] < min_cost:\n",
    "                min_cost = costs[node]\n",
    "                min_node = node\n",
    "        \n",
    "        # remove minimal cost node from frontier\n",
    "        frontier.remove(min_node)\n",
    "        \n",
    "        # explore the minimal cost node\n",
    "        for node in graph[min_node]:\n",
    "            # temporary cost to node is\n",
    "            # cost to get to min_node\n",
    "            cost = costs[min_node]\n",
    "            # plus path cost to go from min_node to node\n",
    "            cost += graph[min_node][node]\n",
    "            # plus the heuristic cost to the goal from node\n",
    "            cost += heuristic[goal_node][node]\n",
    "            \n",
    "            # if node is newly discovered, initialise its cost and path\n",
    "            if node not in costs:\n",
    "                costs[node] = cost\n",
    "                paths[node] = []\n",
    "                # hack to copy a path, stored as a list of nodes\n",
    "                for step in paths[min_node]:\n",
    "                    paths[node].append(step)\n",
    "                # add the final step\n",
    "                paths[node].append(node)\n",
    "                # add newly discovered nodes to the frontier\n",
    "                frontier.append(node)\n",
    "            # if node seen before, \n",
    "            # update its cost and path if the new path is cheaper\n",
    "            elif node in costs and cost < costs[node]:\n",
    "                costs[node] = cost\n",
    "                paths[node] = []\n",
    "                for step in paths[min_node]:\n",
    "                    paths[node].append(step)\n",
    "                paths[node].append(node)\n",
    "            # end loop\n",
    "    # check for goal\n",
    "    if goal_node in costs:\n",
    "        print(\"Cheapest path from {} to {} is:\".format(initial_node, goal_node))\n",
    "        print(paths[goal_node])\n",
    "        print(\"This path has cost:\")\n",
    "        print(costs[goal_node])\n",
    "    else:\n",
    "        print(\"No connection found from {} to {}.\".format(initial_node, goal_node))            "
   ]
  },
  {
   "cell_type": "markdown",
   "metadata": {},
   "source": [
    "We can test uniform cost search on the above example graph to find the cheapest path from node 1 to node 6, expected to be 1-2-5-6."
   ]
  },
  {
   "cell_type": "code",
   "execution_count": 17,
   "metadata": {},
   "outputs": [
    {
     "name": "stdout",
     "output_type": "stream",
     "text": [
      "Cheapest path from 1 to 6 is:\n",
      "[1, 2, 5, 6]\n",
      "This path has cost:\n",
      "3\n"
     ]
    }
   ],
   "source": [
    "search(graph,1,6)"
   ]
  },
  {
   "cell_type": "markdown",
   "metadata": {},
   "source": [
    "To test breadth first search we can create a new graph with all weights set to 1."
   ]
  },
  {
   "cell_type": "code",
   "execution_count": 18,
   "metadata": {},
   "outputs": [
    {
     "name": "stdout",
     "output_type": "stream",
     "text": [
      "Cheapest path from 1 to 6 is:\n",
      "[1, 3, 6]\n",
      "This path has cost:\n",
      "2\n"
     ]
    }
   ],
   "source": [
    "unit_graph = {}\n",
    "# For a large graph this would be slow.\n",
    "# In such a case it's probably better to modify the search algorithm directly.\n",
    "for node in graph:\n",
    "    unit_graph[node] = {}\n",
    "    for neighbour in graph[node]:\n",
    "        unit_graph[node][neighbour] = 1\n",
    "search(unit_graph, 1,6)"
   ]
  },
  {
   "cell_type": "markdown",
   "metadata": {},
   "source": [
    "We can use a non-admissible heuristic to demonstrate that the algorithm also does A* search. For example suppose the heuristic between nodes x and y is $h(x,y) = |x-y|^2$. This is non-admissible for the current graph, for example $h(2,6) = 16 > 2$. As such A* search with this heuristic would choose the path 1-3-6. "
   ]
  },
  {
   "cell_type": "code",
   "execution_count": 19,
   "metadata": {},
   "outputs": [
    {
     "name": "stdout",
     "output_type": "stream",
     "text": [
      "Cheapest path from 1 to 6 is:\n",
      "[1, 3, 6]\n",
      "This path has cost:\n",
      "38\n"
     ]
    }
   ],
   "source": [
    "heuristic = {}\n",
    "for node in graph:\n",
    "    heuristic[node] = {}\n",
    "    for other_node in graph:\n",
    "        heuristic[node][other_node] = (node-other_node)**2\n",
    "search(graph,1,6, heuristic)"
   ]
  },
  {
   "cell_type": "markdown",
   "metadata": {},
   "source": [
    "The A* search fails here because the heuristic was not admissible, it over-estimated the true distance between nodes. A simple though not very useful modification is to set the heuristic to 0.5 for all values, except of course $h(x,x) = 0$."
   ]
  },
  {
   "cell_type": "code",
   "execution_count": 34,
   "metadata": {},
   "outputs": [
    {
     "name": "stdout",
     "output_type": "stream",
     "text": [
      "Cheapest path from 1 to 6 is:\n",
      "[1, 2, 5, 6]\n",
      "This path has cost:\n",
      "4.5\n"
     ]
    }
   ],
   "source": [
    "heuristic = {} \n",
    "for node in graph:\n",
    "    heuristic[node] = {}\n",
    "    for other_node in graph:\n",
    "        if other_node != node:\n",
    "            heuristic[node][other_node] = 0.5\n",
    "        else:\n",
    "            heuristic[node][other_node]=0\n",
    "search(graph,1,6, heuristic)"
   ]
  },
  {
   "cell_type": "markdown",
   "metadata": {},
   "source": [
    "Note that in the above, setting $h(x,y) = 1$ for all $x \\neq y$ seems to be admissible, but the algorithm then finds that both paths 1-3-6 and 1-2-5-6 have cost 6, and the algorithm decides on the first. This is probably either a bug in how I've written the algorithm."
   ]
  },
  {
   "cell_type": "markdown",
   "metadata": {},
   "source": [
    "##### Depth first search\n",
    "This is a little different to the above algorithm, and generally less efficient. The idea is to follow each new node as it's discovere, and update costs appropriately. One benefit is it's easier to implement, as we no longer need to choose an optimal node from the frontier, simply the most recent one added to the frontier.\n",
    "\n",
    "The code is essentially the same besides this, so below I've re-used the min_node variable name, even though it's not really minimal for anything anymore."
   ]
  },
  {
   "cell_type": "code",
   "execution_count": 37,
   "metadata": {
    "collapsed": true
   },
   "outputs": [],
   "source": [
    "def depth_search(graph,initial_node,goal_node):\n",
    "    \n",
    "    # Initialise frontier, costs and paths\n",
    "    frontier = [initial_node]\n",
    "    costs = {initial_node:0}\n",
    "    paths = {initial_node:[initial_node]}\n",
    "    \n",
    "    # loop while frontier non-empty\n",
    "    while(len(frontier)>0):\n",
    "        \n",
    "        min_node = frontier.pop()\n",
    "        \n",
    "        # explore the minimal cost node\n",
    "        for node in graph[min_node]:\n",
    "            # temporary cost to node is\n",
    "            # cost to get to min_node\n",
    "            cost = costs[min_node]\n",
    "            # plus path cost to go from min_node to node\n",
    "            cost += graph[min_node][node]\n",
    "            \n",
    "            # if node is newly discovered, initialise its cost and path\n",
    "            if node not in costs:\n",
    "                costs[node] = cost\n",
    "                paths[node] = []\n",
    "                # hack to copy a path, stored as a list of nodes\n",
    "                for step in paths[min_node]:\n",
    "                    paths[node].append(step)\n",
    "                # add the final step\n",
    "                paths[node].append(node)\n",
    "                # add newly discovered nodes to the frontier\n",
    "                frontier.append(node)\n",
    "            # if node seen before, \n",
    "            # update its cost and path if the new path is cheaper\n",
    "            elif node in costs and cost < costs[node]:\n",
    "                costs[node] = cost\n",
    "                paths[node] = []\n",
    "                for step in paths[min_node]:\n",
    "                    paths[node].append(step)\n",
    "                paths[node].append(node)\n",
    "            # end loop\n",
    "    # check for goal\n",
    "    if goal_node in costs:\n",
    "        print(\"Cheapest path from {} to {} is:\".format(initial_node, goal_node))\n",
    "        print(paths[goal_node])\n",
    "        print(\"This path has cost:\")\n",
    "        print(costs[goal_node])\n",
    "    else:\n",
    "        print(\"No connection found from {} to {}.\".format(initial_node, goal_node))   "
   ]
  },
  {
   "cell_type": "code",
   "execution_count": 38,
   "metadata": {},
   "outputs": [
    {
     "name": "stdout",
     "output_type": "stream",
     "text": [
      "Cheapest path from 1 to 6 is:\n",
      "[1, 2, 5, 6]\n",
      "This path has cost:\n",
      "3\n"
     ]
    }
   ],
   "source": [
    "depth_search(graph, 1,6)"
   ]
  },
  {
   "cell_type": "code",
   "execution_count": 60,
   "metadata": {},
   "outputs": [
    {
     "name": "stdout",
     "output_type": "stream",
     "text": [
      "Cheapest path from 0 to 3001 is:\n",
      "[0, 3001]\n",
      "This path has cost:\n",
      "1\n",
      "Depth first search took 0.5440053939819336\n",
      "Cheapest path from 0 to 3001 is:\n",
      "[0, 3001]\n",
      "This path has cost:\n",
      "1\n",
      "Breadth first search took 0.5570077896118164\n"
     ]
    }
   ],
   "source": [
    "deep_tree = {}\n",
    "N = 3000\n",
    "for i in range(N):\n",
    "    deep_tree[i] = {i+1:1}\n",
    "deep_tree[N] = {}\n",
    "deep_tree[0][N+1]=1\n",
    "deep_tree[N+1] = {}\n",
    "\n",
    "heuristic = {}\n",
    "heuristic[N+1] = {}\n",
    "for i in range(N+2):\n",
    "    heuristic[N+1][i] = 0\n",
    "\n",
    "import time\n",
    "\n",
    "start = time.time()\n",
    "depth_search(deep_tree,0,N+1)\n",
    "end = time.time()\n",
    "print(\"Depth first search took {}\".format(end-start))\n",
    "start = time.time()\n",
    "search(deep_tree,0,N+1, heuristic)\n",
    "end = time.time()\n",
    "print(\"Breadth first search took {}\".format(end-start))"
   ]
  },
  {
   "cell_type": "code",
   "execution_count": null,
   "metadata": {
    "collapsed": true
   },
   "outputs": [],
   "source": []
  }
 ],
 "metadata": {
  "kernelspec": {
   "display_name": "Python 3",
   "language": "python",
   "name": "python3"
  },
  "language_info": {
   "codemirror_mode": {
    "name": "ipython",
    "version": 3
   },
   "file_extension": ".py",
   "mimetype": "text/x-python",
   "name": "python",
   "nbconvert_exporter": "python",
   "pygments_lexer": "ipython3",
   "version": "3.5.3"
  }
 },
 "nbformat": 4,
 "nbformat_minor": 2
}
